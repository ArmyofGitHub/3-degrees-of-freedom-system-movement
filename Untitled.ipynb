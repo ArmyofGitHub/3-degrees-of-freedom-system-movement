{
  "metadata": {
    "language_info": {
      "codemirror_mode": {
        "name": "python",
        "version": 3
      },
      "file_extension": ".py",
      "mimetype": "text/x-python",
      "name": "python",
      "nbconvert_exporter": "python",
      "pygments_lexer": "ipython3",
      "version": "3.8"
    },
    "kernelspec": {
      "name": "python",
      "display_name": "Python (Pyodide)",
      "language": "python"
    }
  },
  "nbformat_minor": 4,
  "nbformat": 4,
  "cells": [
    {
      "cell_type": "code",
      "source": "import math\n\n#length of first stick\nl1 = 86\n#length of second stick\nl2 = 96\n#angular velocity\nomega = 1086\n\n#time in seconds\nt = 0.5\n\n#angles in radians\ntheta1 = omega * t\ntheta2 = omega * t\ntheta3 = omega * t\n\n#transformation matrix\nT = [[math.cos(theta1) * math.cos(theta2), -math.sin(theta1) * math.cos(theta3), math.sin(theta2)],\n     [math.sin(theta1) * math.cos(theta2), math.cos(theta1) * math.cos(theta3), -math.sin(theta2)],\n     [-math.sin(theta2), math.sin(theta3), math.cos(theta2)]]\n\n#End effector position vector\nEE = [[l1], [l2], [0]]\n\n#Position of cube\npos = [[0], [0], [0]]\n\nfor i in range(3):\n    for j in range(1):\n        pos[i][j] = T[i][0] * EE[0][j] + T[i][1] * EE[1][j] + T[i][2] * EE[2][j]\n        \nprint(\"x position of cube: \", pos[0][0])\nprint(\"y position of cube: \", pos[1][0])\nprint(\"z position of cube: \", pos[2][0])",
      "metadata": {
        "trusted": true
      },
      "execution_count": 1,
      "outputs": [
        {
          "name": "stdout",
          "text": "x position of cube:  106.71270444003632\ny position of cube:  38.320573728956035\nz position of cube:  4.754971507201184\n",
          "output_type": "stream"
        }
      ]
    },
    {
      "cell_type": "code",
      "source": "",
      "metadata": {},
      "execution_count": null,
      "outputs": []
    }
  ]
}